{
 "cells": [
  {
   "cell_type": "code",
   "execution_count": 1,
   "id": "c1f72abe",
   "metadata": {},
   "outputs": [],
   "source": [
    "import numpy as np\n",
    "import pandas as pd\n",
    "import matplotlib.pyplot as plt\n",
    "import seaborn as sns\n",
    "from sklearn.model_selection import train_test_split, GridSearchCV, RandomizedSearchCV\n",
    "from sklearn.preprocessing import StandardScaler\n",
    "from sklearn.linear_model import LogisticRegression, LinearRegression, SGDClassifier\n",
    "from sklearn.tree import DecisionTreeClassifier\n",
    "from sklearn.ensemble import RandomForestClassifier, AdaBoostClassifier, GradientBoostingClassifier, ExtraTreesClassifier, BaggingClassifier\n",
    "from sklearn.svm import SVC, LinearSVC\n",
    "from sklearn.metrics import precision_score, recall_score, confusion_matrix, classification_report, accuracy_score, f1_score, ConfusionMatrixDisplay, plot_confusion_matrix\n",
    "from sklearn.neighbors import KNeighborsClassifier\n",
    "import pickle\n",
    "import random\n",
    "random.seed(42)\n",
    "import urllib\n",
    "from urllib.parse import urlparse"
   ]
  },
  {
   "cell_type": "code",
   "execution_count": 3,
   "id": "395a1d83",
   "metadata": {},
   "outputs": [],
   "source": [
    "df = pd.read_csv(\".\\\\data\\\\processed_urls.csv\")"
   ]
  },
  {
   "cell_type": "code",
   "execution_count": 4,
   "id": "53798e15",
   "metadata": {},
   "outputs": [
    {
     "data": {
      "text/plain": [
       "(187177, 37)"
      ]
     },
     "execution_count": 4,
     "metadata": {},
     "output_type": "execute_result"
    }
   ],
   "source": [
    "df.shape"
   ]
  },
  {
   "cell_type": "code",
   "execution_count": 5,
   "id": "b62a4dbe",
   "metadata": {},
   "outputs": [
    {
     "data": {
      "text/plain": [
       "0    0.956998\n",
       "1    0.043002\n",
       "Name: is_phishing, dtype: float64"
      ]
     },
     "execution_count": 5,
     "metadata": {},
     "output_type": "execute_result"
    }
   ],
   "source": [
    "df['is_phishing'].value_counts(normalize=True)"
   ]
  },
  {
   "cell_type": "code",
   "execution_count": 10,
   "id": "b490eed0",
   "metadata": {},
   "outputs": [],
   "source": [
    "X = df.drop(columns=['url', 'protocol', 'domain', 'target', 'path', 'query', 'fragment','is_phishing','response'])\n",
    "y = df['is_phishing']\n",
    "\n",
    "X_train, X_test, y_train, y_test = train_test_split(X,y)"
   ]
  },
  {
   "cell_type": "code",
   "execution_count": 12,
   "id": "5ba9e3fa",
   "metadata": {},
   "outputs": [
    {
     "data": {
      "text/html": [
       "<div>\n",
       "<style scoped>\n",
       "    .dataframe tbody tr th:only-of-type {\n",
       "        vertical-align: middle;\n",
       "    }\n",
       "\n",
       "    .dataframe tbody tr th {\n",
       "        vertical-align: top;\n",
       "    }\n",
       "\n",
       "    .dataframe thead th {\n",
       "        text-align: right;\n",
       "    }\n",
       "</style>\n",
       "<table border=\"1\" class=\"dataframe\">\n",
       "  <thead>\n",
       "    <tr style=\"text-align: right;\">\n",
       "      <th></th>\n",
       "      <th>url_length</th>\n",
       "      <th>qty_dot_url</th>\n",
       "      <th>qty_hyphen_url</th>\n",
       "      <th>qty_slash_url</th>\n",
       "      <th>qty_questionmark_url</th>\n",
       "      <th>qty_equal_url</th>\n",
       "      <th>qty_at_url</th>\n",
       "      <th>qty_and_url</th>\n",
       "      <th>qty_hashtag_url</th>\n",
       "      <th>qty_percent_url</th>\n",
       "      <th>...</th>\n",
       "      <th>query_length</th>\n",
       "      <th>qty_dot_query</th>\n",
       "      <th>qty_slash_query</th>\n",
       "      <th>qty_questionmark_query</th>\n",
       "      <th>qty_equal_query</th>\n",
       "      <th>qty_at_query</th>\n",
       "      <th>qty_and_query</th>\n",
       "      <th>qty_percent_query</th>\n",
       "      <th>qty_dot_fragment</th>\n",
       "      <th>qty_at_fragment</th>\n",
       "    </tr>\n",
       "  </thead>\n",
       "  <tbody>\n",
       "    <tr>\n",
       "      <th>0</th>\n",
       "      <td>32</td>\n",
       "      <td>3</td>\n",
       "      <td>1</td>\n",
       "      <td>2</td>\n",
       "      <td>0</td>\n",
       "      <td>0</td>\n",
       "      <td>0</td>\n",
       "      <td>0</td>\n",
       "      <td>0</td>\n",
       "      <td>0</td>\n",
       "      <td>...</td>\n",
       "      <td>0</td>\n",
       "      <td>0</td>\n",
       "      <td>0</td>\n",
       "      <td>0</td>\n",
       "      <td>0</td>\n",
       "      <td>0</td>\n",
       "      <td>0</td>\n",
       "      <td>0</td>\n",
       "      <td>0</td>\n",
       "      <td>0</td>\n",
       "    </tr>\n",
       "    <tr>\n",
       "      <th>1</th>\n",
       "      <td>45</td>\n",
       "      <td>2</td>\n",
       "      <td>2</td>\n",
       "      <td>5</td>\n",
       "      <td>0</td>\n",
       "      <td>0</td>\n",
       "      <td>0</td>\n",
       "      <td>0</td>\n",
       "      <td>0</td>\n",
       "      <td>0</td>\n",
       "      <td>...</td>\n",
       "      <td>0</td>\n",
       "      <td>0</td>\n",
       "      <td>0</td>\n",
       "      <td>0</td>\n",
       "      <td>0</td>\n",
       "      <td>0</td>\n",
       "      <td>0</td>\n",
       "      <td>0</td>\n",
       "      <td>0</td>\n",
       "      <td>0</td>\n",
       "    </tr>\n",
       "    <tr>\n",
       "      <th>2</th>\n",
       "      <td>52</td>\n",
       "      <td>2</td>\n",
       "      <td>0</td>\n",
       "      <td>3</td>\n",
       "      <td>0</td>\n",
       "      <td>0</td>\n",
       "      <td>0</td>\n",
       "      <td>0</td>\n",
       "      <td>0</td>\n",
       "      <td>0</td>\n",
       "      <td>...</td>\n",
       "      <td>0</td>\n",
       "      <td>0</td>\n",
       "      <td>0</td>\n",
       "      <td>0</td>\n",
       "      <td>0</td>\n",
       "      <td>0</td>\n",
       "      <td>0</td>\n",
       "      <td>0</td>\n",
       "      <td>0</td>\n",
       "      <td>0</td>\n",
       "    </tr>\n",
       "    <tr>\n",
       "      <th>3</th>\n",
       "      <td>57</td>\n",
       "      <td>2</td>\n",
       "      <td>0</td>\n",
       "      <td>3</td>\n",
       "      <td>0</td>\n",
       "      <td>0</td>\n",
       "      <td>0</td>\n",
       "      <td>0</td>\n",
       "      <td>0</td>\n",
       "      <td>0</td>\n",
       "      <td>...</td>\n",
       "      <td>0</td>\n",
       "      <td>0</td>\n",
       "      <td>0</td>\n",
       "      <td>0</td>\n",
       "      <td>0</td>\n",
       "      <td>0</td>\n",
       "      <td>0</td>\n",
       "      <td>0</td>\n",
       "      <td>0</td>\n",
       "      <td>0</td>\n",
       "    </tr>\n",
       "    <tr>\n",
       "      <th>4</th>\n",
       "      <td>40</td>\n",
       "      <td>2</td>\n",
       "      <td>2</td>\n",
       "      <td>3</td>\n",
       "      <td>0</td>\n",
       "      <td>0</td>\n",
       "      <td>0</td>\n",
       "      <td>0</td>\n",
       "      <td>0</td>\n",
       "      <td>0</td>\n",
       "      <td>...</td>\n",
       "      <td>0</td>\n",
       "      <td>0</td>\n",
       "      <td>0</td>\n",
       "      <td>0</td>\n",
       "      <td>0</td>\n",
       "      <td>0</td>\n",
       "      <td>0</td>\n",
       "      <td>0</td>\n",
       "      <td>0</td>\n",
       "      <td>0</td>\n",
       "    </tr>\n",
       "  </tbody>\n",
       "</table>\n",
       "<p>5 rows × 28 columns</p>\n",
       "</div>"
      ],
      "text/plain": [
       "   url_length  qty_dot_url  qty_hyphen_url  qty_slash_url  \\\n",
       "0          32            3               1              2   \n",
       "1          45            2               2              5   \n",
       "2          52            2               0              3   \n",
       "3          57            2               0              3   \n",
       "4          40            2               2              3   \n",
       "\n",
       "   qty_questionmark_url  qty_equal_url  qty_at_url  qty_and_url  \\\n",
       "0                     0              0           0            0   \n",
       "1                     0              0           0            0   \n",
       "2                     0              0           0            0   \n",
       "3                     0              0           0            0   \n",
       "4                     0              0           0            0   \n",
       "\n",
       "   qty_hashtag_url  qty_percent_url  ...  query_length  qty_dot_query  \\\n",
       "0                0                0  ...             0              0   \n",
       "1                0                0  ...             0              0   \n",
       "2                0                0  ...             0              0   \n",
       "3                0                0  ...             0              0   \n",
       "4                0                0  ...             0              0   \n",
       "\n",
       "   qty_slash_query  qty_questionmark_query  qty_equal_query  qty_at_query  \\\n",
       "0                0                       0                0             0   \n",
       "1                0                       0                0             0   \n",
       "2                0                       0                0             0   \n",
       "3                0                       0                0             0   \n",
       "4                0                       0                0             0   \n",
       "\n",
       "   qty_and_query  qty_percent_query  qty_dot_fragment  qty_at_fragment  \n",
       "0              0                  0                 0                0  \n",
       "1              0                  0                 0                0  \n",
       "2              0                  0                 0                0  \n",
       "3              0                  0                 0                0  \n",
       "4              0                  0                 0                0  \n",
       "\n",
       "[5 rows x 28 columns]"
      ]
     },
     "execution_count": 12,
     "metadata": {},
     "output_type": "execute_result"
    }
   ],
   "source": [
    "X.head()"
   ]
  },
  {
   "cell_type": "code",
   "execution_count": 13,
   "id": "35821be9",
   "metadata": {},
   "outputs": [],
   "source": [
    "ss = StandardScaler()\n",
    "\n",
    "X_train_sc = ss.fit_transform(X_train)\n",
    "\n",
    "X_test_sc = ss.transform(X_test)"
   ]
  },
  {
   "cell_type": "code",
   "execution_count": 14,
   "id": "89dd2d42",
   "metadata": {},
   "outputs": [],
   "source": [
    "def get_scores_sc(model):\n",
    "    \n",
    "    # instantiate model\n",
    "    model = model()\n",
    "    \n",
    "    # fit to scaled data\n",
    "    model.fit(X_train_sc, y_train)\n",
    "    \n",
    "    # make predictions\n",
    "    preds = model.predict(X_test_sc)\n",
    "\n",
    "    # print results\n",
    "    print(f'{model} Training Score: {model.score(X_train_sc, y_train)}')\n",
    "    print(f'{model} Testing Score: {model.score(X_test_sc, y_test)}')\n",
    "    print()\n",
    "    print(classification_report(y_test, preds))\n",
    "    print(confusion_matrix(y_test, preds))\n",
    "\n",
    "    return"
   ]
  },
  {
   "cell_type": "code",
   "execution_count": 15,
   "id": "68b38ce5",
   "metadata": {},
   "outputs": [],
   "source": [
    "def get_scores(model):\n",
    "    \n",
    "    # instantiate model\n",
    "    model = model()\n",
    "    \n",
    "    # fit to data\n",
    "    model.fit(X_train, y_train)\n",
    "    \n",
    "    # make predictions\n",
    "    preds = model.predict(X_test)\n",
    "\n",
    "    # print results\n",
    "    print(f'{model} Training Score: {model.score(X_train, y_train)}')\n",
    "    print(f'{model} Testing Score: {model.score(X_test, y_test)}')\n",
    "    print()\n",
    "    print(classification_report(y_test, preds))\n",
    "    print(confusion_matrix(y_test, preds))\n",
    "\n",
    "    return"
   ]
  },
  {
   "cell_type": "code",
   "execution_count": 16,
   "id": "f22b45fb",
   "metadata": {},
   "outputs": [
    {
     "name": "stdout",
     "output_type": "stream",
     "text": [
      "SGDClassifier() Training Score: 0.9983259962103403\n",
      "SGDClassifier() Testing Score: 0.9983331552516295\n",
      "\n",
      "              precision    recall  f1-score   support\n",
      "\n",
      "           0       1.00      1.00      1.00     44826\n",
      "           1       1.00      0.96      0.98      1969\n",
      "\n",
      "    accuracy                           1.00     46795\n",
      "   macro avg       1.00      0.98      0.99     46795\n",
      "weighted avg       1.00      1.00      1.00     46795\n",
      "\n",
      "[[44823     3]\n",
      " [   75  1894]]\n"
     ]
    }
   ],
   "source": [
    "get_scores_sc(SGDClassifier)"
   ]
  },
  {
   "cell_type": "code",
   "execution_count": 17,
   "id": "5ed69a44",
   "metadata": {},
   "outputs": [
    {
     "name": "stdout",
     "output_type": "stream",
     "text": [
      "AdaBoostClassifier() Training Score: 0.998361613312248\n",
      "AdaBoostClassifier() Testing Score: 0.9983972646650283\n",
      "\n",
      "              precision    recall  f1-score   support\n",
      "\n",
      "           0       1.00      1.00      1.00     44826\n",
      "           1       1.00      0.96      0.98      1969\n",
      "\n",
      "    accuracy                           1.00     46795\n",
      "   macro avg       1.00      0.98      0.99     46795\n",
      "weighted avg       1.00      1.00      1.00     46795\n",
      "\n",
      "[[44826     0]\n",
      " [   75  1894]]\n"
     ]
    }
   ],
   "source": [
    "get_scores(AdaBoostClassifier)"
   ]
  },
  {
   "cell_type": "code",
   "execution_count": 18,
   "id": "c05f6e8e",
   "metadata": {},
   "outputs": [
    {
     "name": "stdout",
     "output_type": "stream",
     "text": [
      "GradientBoostingClassifier() Training Score: 0.9988673761593366\n",
      "GradientBoostingClassifier() Testing Score: 0.9987605513409552\n",
      "\n",
      "              precision    recall  f1-score   support\n",
      "\n",
      "           0       1.00      1.00      1.00     44826\n",
      "           1       1.00      0.97      0.99      1969\n",
      "\n",
      "    accuracy                           1.00     46795\n",
      "   macro avg       1.00      0.99      0.99     46795\n",
      "weighted avg       1.00      1.00      1.00     46795\n",
      "\n",
      "[[44825     1]\n",
      " [   57  1912]]\n"
     ]
    }
   ],
   "source": [
    "get_scores(GradientBoostingClassifier)"
   ]
  },
  {
   "cell_type": "code",
   "execution_count": 19,
   "id": "9d2102e0",
   "metadata": {},
   "outputs": [
    {
     "name": "stdout",
     "output_type": "stream",
     "text": [
      "LogisticRegression() Training Score: 0.9983188727899588\n",
      "LogisticRegression() Testing Score: 0.9983331552516295\n",
      "\n",
      "              precision    recall  f1-score   support\n",
      "\n",
      "           0       1.00      1.00      1.00     44826\n",
      "           1       1.00      0.96      0.98      1969\n",
      "\n",
      "    accuracy                           1.00     46795\n",
      "   macro avg       1.00      0.98      0.99     46795\n",
      "weighted avg       1.00      1.00      1.00     46795\n",
      "\n",
      "[[44823     3]\n",
      " [   75  1894]]\n"
     ]
    }
   ],
   "source": [
    "get_scores_sc(LogisticRegression)"
   ]
  },
  {
   "cell_type": "code",
   "execution_count": 20,
   "id": "69935aab",
   "metadata": {},
   "outputs": [
    {
     "name": "stdout",
     "output_type": "stream",
     "text": [
      "KNeighborsClassifier() Training Score: 0.998831759057429\n",
      "KNeighborsClassifier() Testing Score: 0.998739181536489\n",
      "\n",
      "              precision    recall  f1-score   support\n",
      "\n",
      "           0       1.00      1.00      1.00     44826\n",
      "           1       1.00      0.97      0.98      1969\n",
      "\n",
      "    accuracy                           1.00     46795\n",
      "   macro avg       1.00      0.99      0.99     46795\n",
      "weighted avg       1.00      1.00      1.00     46795\n",
      "\n",
      "[[44822     4]\n",
      " [   55  1914]]\n"
     ]
    }
   ],
   "source": [
    "get_scores_sc(KNeighborsClassifier)"
   ]
  },
  {
   "cell_type": "code",
   "execution_count": 21,
   "id": "8532f7ca",
   "metadata": {},
   "outputs": [
    {
     "name": "stdout",
     "output_type": "stream",
     "text": [
      "DecisionTreeClassifier() Training Score: 0.9993161516433731\n",
      "DecisionTreeClassifier() Testing Score: 0.9989101399722192\n",
      "\n",
      "              precision    recall  f1-score   support\n",
      "\n",
      "           0       1.00      1.00      1.00     44826\n",
      "           1       1.00      0.98      0.99      1969\n",
      "\n",
      "    accuracy                           1.00     46795\n",
      "   macro avg       1.00      0.99      0.99     46795\n",
      "weighted avg       1.00      1.00      1.00     46795\n",
      "\n",
      "[[44824     2]\n",
      " [   49  1920]]\n"
     ]
    }
   ],
   "source": [
    "get_scores(DecisionTreeClassifier)"
   ]
  },
  {
   "cell_type": "code",
   "execution_count": 22,
   "id": "7850e158",
   "metadata": {},
   "outputs": [
    {
     "name": "stdout",
     "output_type": "stream",
     "text": [
      "BaggingClassifier() Training Score: 0.9992734111210839\n",
      "BaggingClassifier() Testing Score: 0.9989528795811519\n",
      "\n",
      "              precision    recall  f1-score   support\n",
      "\n",
      "           0       1.00      1.00      1.00     44826\n",
      "           1       1.00      0.98      0.99      1969\n",
      "\n",
      "    accuracy                           1.00     46795\n",
      "   macro avg       1.00      0.99      0.99     46795\n",
      "weighted avg       1.00      1.00      1.00     46795\n",
      "\n",
      "[[44824     2]\n",
      " [   47  1922]]\n"
     ]
    }
   ],
   "source": [
    "get_scores(BaggingClassifier)"
   ]
  },
  {
   "cell_type": "code",
   "execution_count": 23,
   "id": "92f4ed35",
   "metadata": {},
   "outputs": [
    {
     "name": "stdout",
     "output_type": "stream",
     "text": [
      "ExtraTreesClassifier() Training Score: 0.9993161516433731\n",
      "ExtraTreesClassifier() Testing Score: 0.9987605513409552\n",
      "\n",
      "              precision    recall  f1-score   support\n",
      "\n",
      "           0       1.00      1.00      1.00     44826\n",
      "           1       1.00      0.97      0.99      1969\n",
      "\n",
      "    accuracy                           1.00     46795\n",
      "   macro avg       1.00      0.99      0.99     46795\n",
      "weighted avg       1.00      1.00      1.00     46795\n",
      "\n",
      "[[44820     6]\n",
      " [   52  1917]]\n"
     ]
    }
   ],
   "source": [
    "get_scores(ExtraTreesClassifier)"
   ]
  },
  {
   "cell_type": "code",
   "execution_count": 24,
   "id": "f3d94d52",
   "metadata": {},
   "outputs": [
    {
     "name": "stdout",
     "output_type": "stream",
     "text": [
      "RandomForestClassifier() Training Score: 0.9993161516433731\n",
      "RandomForestClassifier() Testing Score: 0.9988032909498878\n",
      "\n",
      "              precision    recall  f1-score   support\n",
      "\n",
      "           0       1.00      1.00      1.00     44826\n",
      "           1       1.00      0.97      0.99      1969\n",
      "\n",
      "    accuracy                           1.00     46795\n",
      "   macro avg       1.00      0.99      0.99     46795\n",
      "weighted avg       1.00      1.00      1.00     46795\n",
      "\n",
      "[[44823     3]\n",
      " [   53  1916]]\n"
     ]
    }
   ],
   "source": [
    "get_scores(RandomForestClassifier)"
   ]
  },
  {
   "cell_type": "code",
   "execution_count": 25,
   "id": "663e861a",
   "metadata": {},
   "outputs": [
    {
     "name": "stdout",
     "output_type": "stream",
     "text": [
      "Fitting 3 folds for each of 10 candidates, totalling 30 fits\n",
      "Best Parameters: {'n_estimators': 400, 'min_samples_split': 5, 'min_samples_leaf': 1, 'max_features': 'auto', 'max_depth': 50, 'bootstrap': False}\n"
     ]
    }
   ],
   "source": [
    "rfc = RandomForestClassifier()\n",
    "rfc_params = {'bootstrap': [True, False],\n",
    "               'max_depth': [10, 20, 30, 40, 50, 60, 70, 80, 90, 100, None],\n",
    "               'max_features': ['auto', 'sqrt'],\n",
    "               'min_samples_leaf': [1, 2, 4],\n",
    "               'min_samples_split': [2, 5, 10],\n",
    "               'n_estimators': [200, 400, 600, 800, 1000, 1200, 1400, 1600]}\n",
    "\n",
    "rfc_random = RandomizedSearchCV(estimator = rfc, param_distributions = rfc_params, cv = 3, verbose=2, random_state=42, \n",
    "                                n_jobs = -1)\n",
    "rfc_random.fit(X_train, y_train)\n",
    "print(f'Best Parameters: {rfc_random.best_params_}')"
   ]
  },
  {
   "cell_type": "code",
   "execution_count": 26,
   "id": "133dbc93",
   "metadata": {},
   "outputs": [
    {
     "name": "stdout",
     "output_type": "stream",
     "text": [
      "Training Score: 0.9992947813822285\n",
      "Testing Score: 0.9988460305588204\n",
      "\n",
      "              precision    recall  f1-score   support\n",
      "\n",
      "           0       1.00      1.00      1.00     44826\n",
      "           1       1.00      0.97      0.99      1969\n",
      "\n",
      "    accuracy                           1.00     46795\n",
      "   macro avg       1.00      0.99      0.99     46795\n",
      "weighted avg       1.00      1.00      1.00     46795\n",
      "\n",
      "[[44824     2]\n",
      " [   52  1917]]\n"
     ]
    },
    {
     "data": {
      "image/png": "[encoded data removed]",
      "text/plain": [
       "<Figure size 432x288 with 2 Axes>"
      ]
     },
     "metadata": {
      "needs_background": "light"
     },
     "output_type": "display_data"
    }
   ],
   "source": [
    "rfc = RandomForestClassifier(n_estimators = 400, min_samples_split= 5, min_samples_leaf= 1, max_features= 'auto', max_depth= 50, \n",
    "                             bootstrap= False, n_jobs= -1, random_state=42)\n",
    "rfc.fit(X_train, y_train)\n",
    "\n",
    "preds = rfc.predict(X_test)\n",
    "print(f'Training Score: {rfc.score(X_train, y_train)}')\n",
    "print(f'Testing Score: {rfc.score(X_test, y_test)}')\n",
    "print()\n",
    "print(classification_report(y_test,preds))\n",
    "print(confusion_matrix(y_test, preds))\n",
    "\n",
    "cm = confusion_matrix(y_test, preds)\n",
    "disp = ConfusionMatrixDisplay(confusion_matrix = cm, display_labels = rfc.classes_)\n",
    "disp.plot(cmap = 'Reds', values_format='');"
   ]
  },
  {
   "cell_type": "code",
   "execution_count": 27,
   "id": "918f9185",
   "metadata": {},
   "outputs": [
    {
     "name": "stdout",
     "output_type": "stream",
     "text": [
      "Accuracy:  0.9988460305588204\n",
      "Misclassification Rate:  0.0011539694411796132\n",
      "Recall:  0.973590655154901\n",
      "Specificity:  0.9999553830366306\n",
      "Precision:  0.9989577905158937\n"
     ]
    }
   ],
   "source": [
    "tn, fp, fn, tp = confusion_matrix(y_test, preds).ravel()\n",
    "\n",
    "print(\"Accuracy: \", (tn + tp) / (tn + fp + fn + tp))\n",
    "print('Misclassification Rate: ', (fp+fn)/(tp+fp+tn+fn))\n",
    "print(\"Recall: \", tp / (tp + fn))\n",
    "print(\"Specificity: \", tn / (tn + fp))\n",
    "print(\"Precision: \", tp / (tp + fp))"
   ]
  },
  {
   "cell_type": "code",
   "execution_count": 28,
   "id": "c4e8a85d",
   "metadata": {},
   "outputs": [
    {
     "name": "stdout",
     "output_type": "stream",
     "text": [
      "Variable: path_length          Importance: 0.278\n",
      "Variable: qty_slash_url        Importance: 0.261\n",
      "Variable: qty_slash_path       Importance: 0.225\n",
      "Variable: url_length           Importance: 0.101\n",
      "Variable: qty_dot_url          Importance: 0.035\n",
      "Variable: qty_dot_path         Importance: 0.029\n",
      "Variable: query_length         Importance: 0.013\n",
      "Variable: domain_length        Importance: 0.012\n",
      "Variable: qty_hyphen_path      Importance: 0.011\n",
      "Variable: qty_equal_url        Importance: 0.01\n",
      "Variable: qty_questionmark_url Importance: 0.009\n",
      "Variable: qty_dot_domain       Importance: 0.008\n",
      "Variable: qty_equal_query      Importance: 0.004\n",
      "Variable: qty_hyphen_url       Importance: 0.001\n",
      "Variable: qty_and_url          Importance: 0.001\n",
      "Variable: qty_hyphen_domain    Importance: 0.001\n",
      "Variable: qty_and_query        Importance: 0.001\n",
      "Variable: qty_at_url           Importance: 0.0\n",
      "Variable: qty_hashtag_url      Importance: 0.0\n",
      "Variable: qty_percent_url      Importance: 0.0\n",
      "Variable: qty_equal_path       Importance: 0.0\n",
      "Variable: qty_dot_query        Importance: 0.0\n",
      "Variable: qty_slash_query      Importance: 0.0\n",
      "Variable: qty_questionmark_query Importance: 0.0\n",
      "Variable: qty_at_query         Importance: 0.0\n",
      "Variable: qty_percent_query    Importance: 0.0\n",
      "Variable: qty_dot_fragment     Importance: 0.0\n",
      "Variable: qty_at_fragment      Importance: 0.0\n"
     ]
    }
   ],
   "source": [
    "# Create feature list\n",
    "feature_list = list(X.columns)\n",
    "\n",
    "# Get numerical feature importances\n",
    "importances = list(rfc.feature_importances_)\n",
    "\n",
    "# List of tuples with variable and importance\n",
    "feature_importances = [(feature, round(importance, 3)) for feature, importance in zip(feature_list, importances)]\n",
    "\n",
    "# Sort the feature importances by most important first\n",
    "feature_importances = sorted(feature_importances, key = lambda x: x[1], reverse = True)\n",
    "\n",
    "# Print\n",
    "[print('Variable: {:20} Importance: {}'.format(*pair)) for pair in feature_importances];"
   ]
  },
  {
   "cell_type": "code",
   "execution_count": 29,
   "id": "3859b1f6",
   "metadata": {},
   "outputs": [
    {
     "name": "stdout",
     "output_type": "stream",
     "text": [
      "['url_length', 'qty_dot_url', 'qty_hyphen_url', 'qty_slash_url', 'qty_questionmark_url', 'qty_equal_url', 'qty_at_url', 'qty_and_url', 'qty_hashtag_url', 'qty_percent_url', 'domain_length', 'qty_dot_domain', 'qty_hyphen_domain', 'path_length', 'qty_dot_path', 'qty_hyphen_path', 'qty_slash_path', 'qty_equal_path', 'query_length', 'qty_dot_query', 'qty_slash_query', 'qty_questionmark_query', 'qty_equal_query', 'qty_at_query', 'qty_and_query', 'qty_percent_query', 'qty_dot_fragment', 'qty_at_fragment']\n"
     ]
    }
   ],
   "source": [
    "print(feature_list)"
   ]
  },
  {
   "cell_type": "code",
   "execution_count": 32,
   "id": "3a596fcc",
   "metadata": {},
   "outputs": [],
   "source": [
    "def predict_url(url):\n",
    "    x = []\n",
    "    protocol,domain,path,query,fragment = zip(*[urllib.parse.urlsplit(url)])\n",
    "    x.append(len(url))\n",
    "    x.append(url.count('.'))\n",
    "    x.append(url.count('-'))\n",
    "    x.append(url.count('/'))\n",
    "    x.append(url.count('?'))\n",
    "    x.append(url.count('='))\n",
    "    x.append(url.count('@'))\n",
    "    x.append(url.count('&'))\n",
    "    x.append(url.count('#'))\n",
    "    x.append(url.count('%'))\n",
    "    \n",
    "    x.append(len(domain))\n",
    "    x.append(domain.count('.'))\n",
    "    x.append(domain.count('-'))\n",
    "    \n",
    "    x.append(len(path))\n",
    "    x.append(path.count('.'))\n",
    "    x.append(path.count('-'))\n",
    "    x.append(path.count('/'))\n",
    "    x.append(path.count('='))\n",
    "    \n",
    "    x.append(len(query))\n",
    "    x.append(query.count('.'))\n",
    "    x.append(query.count('/'))\n",
    "    x.append(query.count('?'))\n",
    "    x.append(query.count('='))\n",
    "    x.append(query.count('@'))\n",
    "    x.append(query.count('&'))\n",
    "    x.append(query.count('%'))\n",
    "    \n",
    "    x.append(fragment.count('.'))\n",
    "    x.append(fragment.count('@'))\n",
    "    \n",
    "    df=pd.DataFrame(x).T\n",
    "#     print(df)\n",
    "    pred = rfc.predict(df)\n",
    "    return(pred)\n",
    "    "
   ]
  },
  {
   "cell_type": "code",
   "execution_count": 36,
   "id": "3f14f175",
   "metadata": {},
   "outputs": [
    {
     "name": "stdout",
     "output_type": "stream",
     "text": [
      "please enter url fot testing :\thttp://cool-hat-5f34.documents-wrangler.workers.dev/\n",
      "this is a phishing url\n"
     ]
    }
   ],
   "source": [
    "\n",
    "x = input(\"please enter url fot testing :\")\n",
    "pred = predict_url(x)\n",
    "if pred:\n",
    "    print(\"this is a phishing url\")\n",
    "else:\n",
    "    print(\"good url!!\")"
   ]
  },
  {
   "cell_type": "code",
   "execution_count": null,
   "id": "30e27598",
   "metadata": {},
   "outputs": [],
   "source": []
  },
  {
   "cell_type": "code",
   "execution_count": null,
   "id": "6920bcf5",
   "metadata": {},
   "outputs": [],
   "source": []
  },
  {
   "cell_type": "code",
   "execution_count": null,
   "id": "d9be7169",
   "metadata": {},
   "outputs": [],
   "source": []
  }
 ],
 "metadata": {
  "kernelspec": {
   "display_name": "Python 3 (ipykernel)",
   "language": "python",
   "name": "python3"
  },
  "language_info": {
   "codemirror_mode": {
    "name": "ipython",
    "version": 3
   },
   "file_extension": ".py",
   "mimetype": "text/x-python",
   "name": "python",
   "nbconvert_exporter": "python",
   "pygments_lexer": "ipython3",
   "version": "3.9.7"
  }
 },
 "nbformat": 4,
 "nbformat_minor": 5
}
