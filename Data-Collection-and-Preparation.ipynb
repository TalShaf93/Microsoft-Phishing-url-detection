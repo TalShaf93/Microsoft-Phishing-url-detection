{
 "cells": [
  {
   "cell_type": "code",
   "execution_count": 1,
   "id": "edab3847",
   "metadata": {},
   "outputs": [],
   "source": [
    "import numpy as np\n",
    "import pandas as pd\n",
    "import matplotlib.pyplot as plt\n",
    "import seaborn as sns"
   ]
  },
  {
   "cell_type": "code",
   "execution_count": 3,
   "id": "a6765e92",
   "metadata": {},
   "outputs": [],
   "source": [
    "# Upload datasets\n",
    "df = pd.read_csv(\".\\\\data\\\\online-valid.csv\")\n",
    "df2 = pd.read_csv(\".\\\\data\\\\legit-urls.csv\")"
   ]
  },
  {
   "cell_type": "code",
   "execution_count": 4,
   "id": "b01e73b7",
   "metadata": {},
   "outputs": [
    {
     "data": {
      "text/html": [
       "<div>\n",
       "<style scoped>\n",
       "    .dataframe tbody tr th:only-of-type {\n",
       "        vertical-align: middle;\n",
       "    }\n",
       "\n",
       "    .dataframe tbody tr th {\n",
       "        vertical-align: top;\n",
       "    }\n",
       "\n",
       "    .dataframe thead th {\n",
       "        text-align: right;\n",
       "    }\n",
       "</style>\n",
       "<table border=\"1\" class=\"dataframe\">\n",
       "  <thead>\n",
       "    <tr style=\"text-align: right;\">\n",
       "      <th></th>\n",
       "      <th>phish_id</th>\n",
       "      <th>url</th>\n",
       "      <th>phish_detail_url</th>\n",
       "      <th>submission_time</th>\n",
       "      <th>verified</th>\n",
       "      <th>verification_time</th>\n",
       "      <th>online</th>\n",
       "      <th>target</th>\n",
       "    </tr>\n",
       "  </thead>\n",
       "  <tbody>\n",
       "    <tr>\n",
       "      <th>0</th>\n",
       "      <td>7397260</td>\n",
       "      <td>http://www.bancasella-web.x10.mx</td>\n",
       "      <td>http://www.phishtank.com/phish_detail.php?phis...</td>\n",
       "      <td>2021-12-28T11:55:19+00:00</td>\n",
       "      <td>yes</td>\n",
       "      <td>2021-12-28T12:10:53+00:00</td>\n",
       "      <td>yes</td>\n",
       "      <td>Other</td>\n",
       "    </tr>\n",
       "    <tr>\n",
       "      <th>1</th>\n",
       "      <td>7397256</td>\n",
       "      <td>https://sites.google.com/view/bt-web-net/home</td>\n",
       "      <td>http://www.phishtank.com/phish_detail.php?phis...</td>\n",
       "      <td>2021-12-28T11:35:22+00:00</td>\n",
       "      <td>yes</td>\n",
       "      <td>2021-12-28T11:43:46+00:00</td>\n",
       "      <td>yes</td>\n",
       "      <td>Other</td>\n",
       "    </tr>\n",
       "    <tr>\n",
       "      <th>2</th>\n",
       "      <td>7397245</td>\n",
       "      <td>https://mch7jm6bjg6bp.clickfunnels.com/optinsk...</td>\n",
       "      <td>http://www.phishtank.com/phish_detail.php?phis...</td>\n",
       "      <td>2021-12-28T10:49:12+00:00</td>\n",
       "      <td>yes</td>\n",
       "      <td>2021-12-28T10:52:33+00:00</td>\n",
       "      <td>yes</td>\n",
       "      <td>Other</td>\n",
       "    </tr>\n",
       "    <tr>\n",
       "      <th>3</th>\n",
       "      <td>7397246</td>\n",
       "      <td>https://mch7jm6bjg6bp.clickfunnels.com/optin16...</td>\n",
       "      <td>http://www.phishtank.com/phish_detail.php?phis...</td>\n",
       "      <td>2021-12-28T10:49:12+00:00</td>\n",
       "      <td>yes</td>\n",
       "      <td>2021-12-28T10:52:33+00:00</td>\n",
       "      <td>yes</td>\n",
       "      <td>Other</td>\n",
       "    </tr>\n",
       "    <tr>\n",
       "      <th>4</th>\n",
       "      <td>7397244</td>\n",
       "      <td>https://bbbttts-amazing-site.webflow.io/</td>\n",
       "      <td>http://www.phishtank.com/phish_detail.php?phis...</td>\n",
       "      <td>2021-12-28T10:48:18+00:00</td>\n",
       "      <td>yes</td>\n",
       "      <td>2021-12-28T10:52:33+00:00</td>\n",
       "      <td>yes</td>\n",
       "      <td>Other</td>\n",
       "    </tr>\n",
       "  </tbody>\n",
       "</table>\n",
       "</div>"
      ],
      "text/plain": [
       "   phish_id                                                url  \\\n",
       "0   7397260                   http://www.bancasella-web.x10.mx   \n",
       "1   7397256      https://sites.google.com/view/bt-web-net/home   \n",
       "2   7397245  https://mch7jm6bjg6bp.clickfunnels.com/optinsk...   \n",
       "3   7397246  https://mch7jm6bjg6bp.clickfunnels.com/optin16...   \n",
       "4   7397244           https://bbbttts-amazing-site.webflow.io/   \n",
       "\n",
       "                                    phish_detail_url  \\\n",
       "0  http://www.phishtank.com/phish_detail.php?phis...   \n",
       "1  http://www.phishtank.com/phish_detail.php?phis...   \n",
       "2  http://www.phishtank.com/phish_detail.php?phis...   \n",
       "3  http://www.phishtank.com/phish_detail.php?phis...   \n",
       "4  http://www.phishtank.com/phish_detail.php?phis...   \n",
       "\n",
       "             submission_time verified          verification_time online target  \n",
       "0  2021-12-28T11:55:19+00:00      yes  2021-12-28T12:10:53+00:00    yes  Other  \n",
       "1  2021-12-28T11:35:22+00:00      yes  2021-12-28T11:43:46+00:00    yes  Other  \n",
       "2  2021-12-28T10:49:12+00:00      yes  2021-12-28T10:52:33+00:00    yes  Other  \n",
       "3  2021-12-28T10:49:12+00:00      yes  2021-12-28T10:52:33+00:00    yes  Other  \n",
       "4  2021-12-28T10:48:18+00:00      yes  2021-12-28T10:52:33+00:00    yes  Other  "
      ]
     },
     "execution_count": 4,
     "metadata": {},
     "output_type": "execute_result"
    }
   ],
   "source": [
    "df.head()"
   ]
  },
  {
   "cell_type": "code",
   "execution_count": 5,
   "id": "362f1ad5",
   "metadata": {},
   "outputs": [
    {
     "data": {
      "text/html": [
       "<div>\n",
       "<style scoped>\n",
       "    .dataframe tbody tr th:only-of-type {\n",
       "        vertical-align: middle;\n",
       "    }\n",
       "\n",
       "    .dataframe tbody tr th {\n",
       "        vertical-align: top;\n",
       "    }\n",
       "\n",
       "    .dataframe thead th {\n",
       "        text-align: right;\n",
       "    }\n",
       "</style>\n",
       "<table border=\"1\" class=\"dataframe\">\n",
       "  <thead>\n",
       "    <tr style=\"text-align: right;\">\n",
       "      <th></th>\n",
       "      <th>url_id</th>\n",
       "      <th>url</th>\n",
       "      <th>target</th>\n",
       "      <th>is_phishing</th>\n",
       "    </tr>\n",
       "  </thead>\n",
       "  <tbody>\n",
       "    <tr>\n",
       "      <th>0</th>\n",
       "      <td>1</td>\n",
       "      <td>google.com</td>\n",
       "      <td>Other</td>\n",
       "      <td>No</td>\n",
       "    </tr>\n",
       "    <tr>\n",
       "      <th>1</th>\n",
       "      <td>2</td>\n",
       "      <td>youtube.com</td>\n",
       "      <td>Other</td>\n",
       "      <td>No</td>\n",
       "    </tr>\n",
       "    <tr>\n",
       "      <th>2</th>\n",
       "      <td>3</td>\n",
       "      <td>tmall.com</td>\n",
       "      <td>Other</td>\n",
       "      <td>No</td>\n",
       "    </tr>\n",
       "    <tr>\n",
       "      <th>3</th>\n",
       "      <td>4</td>\n",
       "      <td>qq.com</td>\n",
       "      <td>Other</td>\n",
       "      <td>No</td>\n",
       "    </tr>\n",
       "    <tr>\n",
       "      <th>4</th>\n",
       "      <td>5</td>\n",
       "      <td>baidu.com</td>\n",
       "      <td>Other</td>\n",
       "      <td>No</td>\n",
       "    </tr>\n",
       "  </tbody>\n",
       "</table>\n",
       "</div>"
      ],
      "text/plain": [
       "   url_id          url target is_phishing\n",
       "0       1   google.com  Other          No\n",
       "1       2  youtube.com  Other          No\n",
       "2       3    tmall.com  Other          No\n",
       "3       4       qq.com  Other          No\n",
       "4       5    baidu.com  Other          No"
      ]
     },
     "execution_count": 5,
     "metadata": {},
     "output_type": "execute_result"
    }
   ],
   "source": [
    "df2.head()"
   ]
  },
  {
   "cell_type": "code",
   "execution_count": 6,
   "id": "928db3ca",
   "metadata": {},
   "outputs": [],
   "source": [
    "def data_info(df):\n",
    "    print('SHAPE')\n",
    "    print(df.shape)\n",
    "    print('=====')\n",
    "    print('DTYPES')\n",
    "    print(df.dtypes)\n",
    "    print('=====')\n",
    "    print('NULL VALUES')\n",
    "    print(df.isnull().sum())\n",
    "    print('=====')"
   ]
  },
  {
   "cell_type": "code",
   "execution_count": 7,
   "id": "bf7f979f",
   "metadata": {},
   "outputs": [
    {
     "name": "stdout",
     "output_type": "stream",
     "text": [
      "SHAPE\n",
      "(8053, 8)\n",
      "=====\n",
      "DTYPES\n",
      "phish_id              int64\n",
      "url                  object\n",
      "phish_detail_url     object\n",
      "submission_time      object\n",
      "verified             object\n",
      "verification_time    object\n",
      "online               object\n",
      "target               object\n",
      "dtype: object\n",
      "=====\n",
      "NULL VALUES\n",
      "phish_id             0\n",
      "url                  0\n",
      "phish_detail_url     0\n",
      "submission_time      0\n",
      "verified             0\n",
      "verification_time    0\n",
      "online               0\n",
      "target               0\n",
      "dtype: int64\n",
      "=====\n"
     ]
    }
   ],
   "source": [
    "data_info(df)"
   ]
  },
  {
   "cell_type": "code",
   "execution_count": 8,
   "id": "bda6b5e6",
   "metadata": {},
   "outputs": [
    {
     "name": "stdout",
     "output_type": "stream",
     "text": [
      "SHAPE\n",
      "(537394, 4)\n",
      "=====\n",
      "DTYPES\n",
      "url_id          int64\n",
      "url            object\n",
      "target         object\n",
      "is_phishing    object\n",
      "dtype: object\n",
      "=====\n",
      "NULL VALUES\n",
      "url_id         0\n",
      "url            0\n",
      "target         0\n",
      "is_phishing    0\n",
      "dtype: int64\n",
      "=====\n"
     ]
    }
   ],
   "source": [
    "data_info(df2)"
   ]
  },
  {
   "cell_type": "code",
   "execution_count": 9,
   "id": "76cd859c",
   "metadata": {},
   "outputs": [],
   "source": [
    "df.drop(columns = ['phish_id', 'phish_detail_url','submission_time','verification_time','online'], inplace=True)"
   ]
  },
  {
   "cell_type": "code",
   "execution_count": 10,
   "id": "df60daed",
   "metadata": {},
   "outputs": [],
   "source": [
    "df['verified'] = df['verified'].eq('yes').mul(1)"
   ]
  },
  {
   "cell_type": "code",
   "execution_count": 11,
   "id": "b261bf88",
   "metadata": {},
   "outputs": [],
   "source": [
    "df.rename(columns={\"verified\": \"is_phishing\"}, inplace=True)"
   ]
  },
  {
   "cell_type": "code",
   "execution_count": 12,
   "id": "5bc05c85",
   "metadata": {},
   "outputs": [
    {
     "data": {
      "text/html": [
       "<div>\n",
       "<style scoped>\n",
       "    .dataframe tbody tr th:only-of-type {\n",
       "        vertical-align: middle;\n",
       "    }\n",
       "\n",
       "    .dataframe tbody tr th {\n",
       "        vertical-align: top;\n",
       "    }\n",
       "\n",
       "    .dataframe thead th {\n",
       "        text-align: right;\n",
       "    }\n",
       "</style>\n",
       "<table border=\"1\" class=\"dataframe\">\n",
       "  <thead>\n",
       "    <tr style=\"text-align: right;\">\n",
       "      <th></th>\n",
       "      <th>url</th>\n",
       "      <th>is_phishing</th>\n",
       "      <th>target</th>\n",
       "    </tr>\n",
       "  </thead>\n",
       "  <tbody>\n",
       "    <tr>\n",
       "      <th>0</th>\n",
       "      <td>http://www.bancasella-web.x10.mx</td>\n",
       "      <td>1</td>\n",
       "      <td>Other</td>\n",
       "    </tr>\n",
       "    <tr>\n",
       "      <th>1</th>\n",
       "      <td>https://sites.google.com/view/bt-web-net/home</td>\n",
       "      <td>1</td>\n",
       "      <td>Other</td>\n",
       "    </tr>\n",
       "    <tr>\n",
       "      <th>2</th>\n",
       "      <td>https://mch7jm6bjg6bp.clickfunnels.com/optinsk...</td>\n",
       "      <td>1</td>\n",
       "      <td>Other</td>\n",
       "    </tr>\n",
       "    <tr>\n",
       "      <th>3</th>\n",
       "      <td>https://mch7jm6bjg6bp.clickfunnels.com/optin16...</td>\n",
       "      <td>1</td>\n",
       "      <td>Other</td>\n",
       "    </tr>\n",
       "    <tr>\n",
       "      <th>4</th>\n",
       "      <td>https://bbbttts-amazing-site.webflow.io/</td>\n",
       "      <td>1</td>\n",
       "      <td>Other</td>\n",
       "    </tr>\n",
       "  </tbody>\n",
       "</table>\n",
       "</div>"
      ],
      "text/plain": [
       "                                                 url  is_phishing target\n",
       "0                   http://www.bancasella-web.x10.mx            1  Other\n",
       "1      https://sites.google.com/view/bt-web-net/home            1  Other\n",
       "2  https://mch7jm6bjg6bp.clickfunnels.com/optinsk...            1  Other\n",
       "3  https://mch7jm6bjg6bp.clickfunnels.com/optin16...            1  Other\n",
       "4           https://bbbttts-amazing-site.webflow.io/            1  Other"
      ]
     },
     "execution_count": 12,
     "metadata": {},
     "output_type": "execute_result"
    }
   ],
   "source": [
    "df.head()"
   ]
  },
  {
   "cell_type": "code",
   "execution_count": 13,
   "id": "0ecb72c6",
   "metadata": {},
   "outputs": [],
   "source": [
    "df2.drop(columns = ['url_id'], inplace=True)"
   ]
  },
  {
   "cell_type": "code",
   "execution_count": 14,
   "id": "03ffb7a9",
   "metadata": {},
   "outputs": [],
   "source": [
    "df2['is_phishing'] = df2['is_phishing'].eq('No').mul(0)"
   ]
  },
  {
   "cell_type": "code",
   "execution_count": 15,
   "id": "9a666b2a",
   "metadata": {},
   "outputs": [],
   "source": [
    "df2['url'] = 'https://' + df2['url'].astype(str)"
   ]
  },
  {
   "cell_type": "code",
   "execution_count": 16,
   "id": "9003dfd2",
   "metadata": {},
   "outputs": [
    {
     "data": {
      "text/html": [
       "<div>\n",
       "<style scoped>\n",
       "    .dataframe tbody tr th:only-of-type {\n",
       "        vertical-align: middle;\n",
       "    }\n",
       "\n",
       "    .dataframe tbody tr th {\n",
       "        vertical-align: top;\n",
       "    }\n",
       "\n",
       "    .dataframe thead th {\n",
       "        text-align: right;\n",
       "    }\n",
       "</style>\n",
       "<table border=\"1\" class=\"dataframe\">\n",
       "  <thead>\n",
       "    <tr style=\"text-align: right;\">\n",
       "      <th></th>\n",
       "      <th>url</th>\n",
       "      <th>target</th>\n",
       "      <th>is_phishing</th>\n",
       "    </tr>\n",
       "  </thead>\n",
       "  <tbody>\n",
       "    <tr>\n",
       "      <th>0</th>\n",
       "      <td>https://google.com</td>\n",
       "      <td>Other</td>\n",
       "      <td>0</td>\n",
       "    </tr>\n",
       "    <tr>\n",
       "      <th>1</th>\n",
       "      <td>https://youtube.com</td>\n",
       "      <td>Other</td>\n",
       "      <td>0</td>\n",
       "    </tr>\n",
       "    <tr>\n",
       "      <th>2</th>\n",
       "      <td>https://tmall.com</td>\n",
       "      <td>Other</td>\n",
       "      <td>0</td>\n",
       "    </tr>\n",
       "    <tr>\n",
       "      <th>3</th>\n",
       "      <td>https://qq.com</td>\n",
       "      <td>Other</td>\n",
       "      <td>0</td>\n",
       "    </tr>\n",
       "    <tr>\n",
       "      <th>4</th>\n",
       "      <td>https://baidu.com</td>\n",
       "      <td>Other</td>\n",
       "      <td>0</td>\n",
       "    </tr>\n",
       "  </tbody>\n",
       "</table>\n",
       "</div>"
      ],
      "text/plain": [
       "                   url target  is_phishing\n",
       "0   https://google.com  Other            0\n",
       "1  https://youtube.com  Other            0\n",
       "2    https://tmall.com  Other            0\n",
       "3       https://qq.com  Other            0\n",
       "4    https://baidu.com  Other            0"
      ]
     },
     "execution_count": 16,
     "metadata": {},
     "output_type": "execute_result"
    }
   ],
   "source": [
    "df2.head()"
   ]
  },
  {
   "cell_type": "code",
   "execution_count": 17,
   "id": "cdef6aae",
   "metadata": {},
   "outputs": [
    {
     "name": "stdout",
     "output_type": "stream",
     "text": [
      "phishing urls: 8053\n",
      "legit urls: 537394\n"
     ]
    }
   ],
   "source": [
    "print(\"phishing urls:\", len(df.index))\n",
    "print(\"legit urls:\", len(df2.index))\n"
   ]
  },
  {
   "cell_type": "code",
   "execution_count": 18,
   "id": "58c0dc3b",
   "metadata": {},
   "outputs": [],
   "source": [
    "drop_indices = np.random.choice(df2.index, int(len(df2.index)/1.5), replace=False)\n",
    "df2 = df2.drop(drop_indices)"
   ]
  },
  {
   "cell_type": "code",
   "execution_count": 19,
   "id": "3c686e32",
   "metadata": {},
   "outputs": [
    {
     "name": "stdout",
     "output_type": "stream",
     "text": [
      "phishing urls: 8053\n",
      "legit urls: 179132\n"
     ]
    }
   ],
   "source": [
    "print(\"phishing urls:\", len(df.index))\n",
    "print(\"legit urls:\", len(df2.index))"
   ]
  },
  {
   "cell_type": "code",
   "execution_count": 20,
   "id": "5ba85798",
   "metadata": {},
   "outputs": [],
   "source": [
    "df_combined = pd.concat([df, df2])"
   ]
  },
  {
   "cell_type": "code",
   "execution_count": 21,
   "id": "b02b5ba2",
   "metadata": {},
   "outputs": [
    {
     "data": {
      "text/html": [
       "<div>\n",
       "<style scoped>\n",
       "    .dataframe tbody tr th:only-of-type {\n",
       "        vertical-align: middle;\n",
       "    }\n",
       "\n",
       "    .dataframe tbody tr th {\n",
       "        vertical-align: top;\n",
       "    }\n",
       "\n",
       "    .dataframe thead th {\n",
       "        text-align: right;\n",
       "    }\n",
       "</style>\n",
       "<table border=\"1\" class=\"dataframe\">\n",
       "  <thead>\n",
       "    <tr style=\"text-align: right;\">\n",
       "      <th></th>\n",
       "      <th>url</th>\n",
       "      <th>is_phishing</th>\n",
       "      <th>target</th>\n",
       "    </tr>\n",
       "  </thead>\n",
       "  <tbody>\n",
       "    <tr>\n",
       "      <th>0</th>\n",
       "      <td>http://www.bancasella-web.x10.mx</td>\n",
       "      <td>1</td>\n",
       "      <td>Other</td>\n",
       "    </tr>\n",
       "    <tr>\n",
       "      <th>1</th>\n",
       "      <td>https://sites.google.com/view/bt-web-net/home</td>\n",
       "      <td>1</td>\n",
       "      <td>Other</td>\n",
       "    </tr>\n",
       "    <tr>\n",
       "      <th>2</th>\n",
       "      <td>https://mch7jm6bjg6bp.clickfunnels.com/optinsk...</td>\n",
       "      <td>1</td>\n",
       "      <td>Other</td>\n",
       "    </tr>\n",
       "    <tr>\n",
       "      <th>3</th>\n",
       "      <td>https://mch7jm6bjg6bp.clickfunnels.com/optin16...</td>\n",
       "      <td>1</td>\n",
       "      <td>Other</td>\n",
       "    </tr>\n",
       "    <tr>\n",
       "      <th>4</th>\n",
       "      <td>https://bbbttts-amazing-site.webflow.io/</td>\n",
       "      <td>1</td>\n",
       "      <td>Other</td>\n",
       "    </tr>\n",
       "  </tbody>\n",
       "</table>\n",
       "</div>"
      ],
      "text/plain": [
       "                                                 url  is_phishing target\n",
       "0                   http://www.bancasella-web.x10.mx            1  Other\n",
       "1      https://sites.google.com/view/bt-web-net/home            1  Other\n",
       "2  https://mch7jm6bjg6bp.clickfunnels.com/optinsk...            1  Other\n",
       "3  https://mch7jm6bjg6bp.clickfunnels.com/optin16...            1  Other\n",
       "4           https://bbbttts-amazing-site.webflow.io/            1  Other"
      ]
     },
     "execution_count": 21,
     "metadata": {},
     "output_type": "execute_result"
    }
   ],
   "source": [
    "df_combined.head()"
   ]
  },
  {
   "cell_type": "code",
   "execution_count": 22,
   "id": "a9c48909",
   "metadata": {},
   "outputs": [
    {
     "data": {
      "text/html": [
       "<div>\n",
       "<style scoped>\n",
       "    .dataframe tbody tr th:only-of-type {\n",
       "        vertical-align: middle;\n",
       "    }\n",
       "\n",
       "    .dataframe tbody tr th {\n",
       "        vertical-align: top;\n",
       "    }\n",
       "\n",
       "    .dataframe thead th {\n",
       "        text-align: right;\n",
       "    }\n",
       "</style>\n",
       "<table border=\"1\" class=\"dataframe\">\n",
       "  <thead>\n",
       "    <tr style=\"text-align: right;\">\n",
       "      <th></th>\n",
       "      <th>url</th>\n",
       "      <th>is_phishing</th>\n",
       "      <th>target</th>\n",
       "    </tr>\n",
       "  </thead>\n",
       "  <tbody>\n",
       "    <tr>\n",
       "      <th>5120</th>\n",
       "      <td>https://huynguyen2k.github.io/netflix/</td>\n",
       "      <td>1</td>\n",
       "      <td>Other</td>\n",
       "    </tr>\n",
       "    <tr>\n",
       "      <th>5402</th>\n",
       "      <td>https://onedrive.live.com/view.aspx?resid=B730...</td>\n",
       "      <td>1</td>\n",
       "      <td>Other</td>\n",
       "    </tr>\n",
       "    <tr>\n",
       "      <th>5435</th>\n",
       "      <td>https://bruno-genthial.mykajabi.com/admin_inde...</td>\n",
       "      <td>1</td>\n",
       "      <td>Other</td>\n",
       "    </tr>\n",
       "    <tr>\n",
       "      <th>5952</th>\n",
       "      <td>https://clone-7473c.web.app/login</td>\n",
       "      <td>1</td>\n",
       "      <td>Amazon.com</td>\n",
       "    </tr>\n",
       "    <tr>\n",
       "      <th>537072</th>\n",
       "      <td>https://https://login.microsoftonline.com</td>\n",
       "      <td>0</td>\n",
       "      <td>Microsoft</td>\n",
       "    </tr>\n",
       "    <tr>\n",
       "      <th>537253</th>\n",
       "      <td>https://internetexplorer.co</td>\n",
       "      <td>0</td>\n",
       "      <td>Microsoft</td>\n",
       "    </tr>\n",
       "    <tr>\n",
       "      <th>537261</th>\n",
       "      <td>https://live.com</td>\n",
       "      <td>0</td>\n",
       "      <td>Microsoft</td>\n",
       "    </tr>\n",
       "    <tr>\n",
       "      <th>537263</th>\n",
       "      <td>https://live.eu</td>\n",
       "      <td>0</td>\n",
       "      <td>Microsoft</td>\n",
       "    </tr>\n",
       "  </tbody>\n",
       "</table>\n",
       "</div>"
      ],
      "text/plain": [
       "                                                      url  is_phishing  \\\n",
       "5120               https://huynguyen2k.github.io/netflix/            1   \n",
       "5402    https://onedrive.live.com/view.aspx?resid=B730...            1   \n",
       "5435    https://bruno-genthial.mykajabi.com/admin_inde...            1   \n",
       "5952                    https://clone-7473c.web.app/login            1   \n",
       "537072          https://https://login.microsoftonline.com            0   \n",
       "537253                        https://internetexplorer.co            0   \n",
       "537261                                   https://live.com            0   \n",
       "537263                                    https://live.eu            0   \n",
       "\n",
       "            target  \n",
       "5120         Other  \n",
       "5402         Other  \n",
       "5435         Other  \n",
       "5952    Amazon.com  \n",
       "537072   Microsoft  \n",
       "537253   Microsoft  \n",
       "537261   Microsoft  \n",
       "537263   Microsoft  "
      ]
     },
     "execution_count": 22,
     "metadata": {},
     "output_type": "execute_result"
    }
   ],
   "source": [
    "df_combined[df_combined.duplicated()]"
   ]
  },
  {
   "cell_type": "code",
   "execution_count": 23,
   "id": "f485e1a9",
   "metadata": {},
   "outputs": [],
   "source": [
    "df_combined.drop_duplicates(inplace=True)\n",
    "msft_domains = df_combined"
   ]
  },
  {
   "cell_type": "code",
   "execution_count": 24,
   "id": "774ea1ac",
   "metadata": {},
   "outputs": [],
   "source": [
    "# domains =['microsoft', 'live', 'office', 'skype','onenote', 'msn', 'bing', 'hotmail', 'msdn', 'outlook', 'windows', 'askapolitician', 'explorer', 'visualstudio', 'visual' ,'studio']\n",
    "\n",
    "# pattern = '|'.join(domains)"
   ]
  },
  {
   "cell_type": "code",
   "execution_count": 25,
   "id": "91bc374d",
   "metadata": {},
   "outputs": [],
   "source": [
    "# msft_domains = df_combined.loc[(df_combined['url'].str.contains(pattern, case=False)) | (df_combined['target'] == 'Microsoft')]"
   ]
  },
  {
   "cell_type": "code",
   "execution_count": 26,
   "id": "08d5cb55",
   "metadata": {},
   "outputs": [
    {
     "data": {
      "text/html": [
       "<div>\n",
       "<style scoped>\n",
       "    .dataframe tbody tr th:only-of-type {\n",
       "        vertical-align: middle;\n",
       "    }\n",
       "\n",
       "    .dataframe tbody tr th {\n",
       "        vertical-align: top;\n",
       "    }\n",
       "\n",
       "    .dataframe thead th {\n",
       "        text-align: right;\n",
       "    }\n",
       "</style>\n",
       "<table border=\"1\" class=\"dataframe\">\n",
       "  <thead>\n",
       "    <tr style=\"text-align: right;\">\n",
       "      <th></th>\n",
       "      <th>url</th>\n",
       "      <th>is_phishing</th>\n",
       "      <th>target</th>\n",
       "    </tr>\n",
       "  </thead>\n",
       "  <tbody>\n",
       "    <tr>\n",
       "      <th>0</th>\n",
       "      <td>http://www.bancasella-web.x10.mx</td>\n",
       "      <td>1</td>\n",
       "      <td>Other</td>\n",
       "    </tr>\n",
       "    <tr>\n",
       "      <th>1</th>\n",
       "      <td>https://sites.google.com/view/bt-web-net/home</td>\n",
       "      <td>1</td>\n",
       "      <td>Other</td>\n",
       "    </tr>\n",
       "    <tr>\n",
       "      <th>2</th>\n",
       "      <td>https://mch7jm6bjg6bp.clickfunnels.com/optinsk...</td>\n",
       "      <td>1</td>\n",
       "      <td>Other</td>\n",
       "    </tr>\n",
       "    <tr>\n",
       "      <th>3</th>\n",
       "      <td>https://mch7jm6bjg6bp.clickfunnels.com/optin16...</td>\n",
       "      <td>1</td>\n",
       "      <td>Other</td>\n",
       "    </tr>\n",
       "    <tr>\n",
       "      <th>4</th>\n",
       "      <td>https://bbbttts-amazing-site.webflow.io/</td>\n",
       "      <td>1</td>\n",
       "      <td>Other</td>\n",
       "    </tr>\n",
       "  </tbody>\n",
       "</table>\n",
       "</div>"
      ],
      "text/plain": [
       "                                                 url  is_phishing target\n",
       "0                   http://www.bancasella-web.x10.mx            1  Other\n",
       "1      https://sites.google.com/view/bt-web-net/home            1  Other\n",
       "2  https://mch7jm6bjg6bp.clickfunnels.com/optinsk...            1  Other\n",
       "3  https://mch7jm6bjg6bp.clickfunnels.com/optin16...            1  Other\n",
       "4           https://bbbttts-amazing-site.webflow.io/            1  Other"
      ]
     },
     "execution_count": 26,
     "metadata": {},
     "output_type": "execute_result"
    }
   ],
   "source": [
    "msft_domains.head()"
   ]
  },
  {
   "cell_type": "code",
   "execution_count": 27,
   "id": "d115f943",
   "metadata": {},
   "outputs": [
    {
     "name": "stdout",
     "output_type": "stream",
     "text": [
      "SHAPE\n",
      "(187177, 3)\n",
      "=====\n",
      "DTYPES\n",
      "url            object\n",
      "is_phishing     int32\n",
      "target         object\n",
      "dtype: object\n",
      "=====\n",
      "NULL VALUES\n",
      "url            0\n",
      "is_phishing    0\n",
      "target         0\n",
      "dtype: int64\n",
      "=====\n"
     ]
    }
   ],
   "source": [
    "data_info(msft_domains)"
   ]
  },
  {
   "cell_type": "code",
   "execution_count": 28,
   "id": "28194a05",
   "metadata": {},
   "outputs": [
    {
     "data": {
      "image/png": "[encoded data removed]",
      "text/plain": [
       "<Figure size 360x504 with 1 Axes>"
      ]
     },
     "metadata": {
      "needs_background": "light"
     },
     "output_type": "display_data"
    }
   ],
   "source": [
    "plt.figure(figsize = (5, 7))        \n",
    "bar = sns.countplot(x=msft_domains[\"is_phishing\"], \n",
    "              data=msft_domains, \n",
    "              palette=\"Reds\")\n",
    "for p in bar.patches:\n",
    "    bar.annotate(format(p.get_height(), ','), \n",
    "                   (p.get_x() + p.get_width() / 2., p.get_height()), \n",
    "                   ha = 'center', va = 'center', \n",
    "                   xytext = (0, 9), \n",
    "                   textcoords = 'offset points')\n",
    "plt.title('Frequency of Legitimate and Phishing URLs', fontsize = 16, pad = 12)\n",
    "plt.xlabel('Legitimate (0), Phishing (1)', fontsize = 14)\n",
    "plt.ylabel(\"Frequency\",fontsize = 14)\n",
    "plt.show();"
   ]
  },
  {
   "cell_type": "code",
   "execution_count": 29,
   "id": "0a01e0c0",
   "metadata": {},
   "outputs": [],
   "source": [
    "msft_domains.to_csv(\"..\\\\data\\\\combined_urls.csv\", index=False)"
   ]
  },
  {
   "cell_type": "code",
   "execution_count": null,
   "id": "e9869fba",
   "metadata": {},
   "outputs": [],
   "source": []
  },
  {
   "cell_type": "code",
   "execution_count": null,
   "id": "b5dd495a",
   "metadata": {},
   "outputs": [],
   "source": []
  }
 ],
 "metadata": {
  "kernelspec": {
   "display_name": "Python 3 (ipykernel)",
   "language": "python",
   "name": "python3"
  },
  "language_info": {
   "codemirror_mode": {
    "name": "ipython",
    "version": 3
   },
   "file_extension": ".py",
   "mimetype": "text/x-python",
   "name": "python",
   "nbconvert_exporter": "python",
   "pygments_lexer": "ipython3",
   "version": "3.9.7"
  }
 },
 "nbformat": 4,
 "nbformat_minor": 5
}
